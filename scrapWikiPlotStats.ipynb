{
  "nbformat": 4,
  "nbformat_minor": 0,
  "metadata": {
    "kernelspec": {
      "display_name": "Python 3",
      "language": "python",
      "name": "python3"
    },
    "language_info": {
      "codemirror_mode": {
        "name": "ipython",
        "version": 3
      },
      "file_extension": ".py",
      "mimetype": "text/x-python",
      "name": "python",
      "nbconvert_exporter": "python",
      "pygments_lexer": "ipython3",
      "version": "3.8.1"
    },
    "colab": {
      "name": "scrapWikiPlotStats.ipynb",
      "provenance": [],
      "include_colab_link": true
    }
  },
  "cells": [
    {
      "cell_type": "markdown",
      "metadata": {
        "id": "view-in-github",
        "colab_type": "text"
      },
      "source": [
        "<a href=\"https://colab.research.google.com/github/luchux/ipython-notebooks-dataanalysis/blob/master/scrapWikiPlotStats.ipynb\" target=\"_parent\"><img src=\"https://colab.research.google.com/assets/colab-badge.svg\" alt=\"Open In Colab\"/></a>"
      ]
    },
    {
      "cell_type": "code",
      "metadata": {
        "id": "H4j0UX_1mSqb",
        "colab_type": "code",
        "colab": {}
      },
      "source": [
        "import requests\n",
        "from bs4 import BeautifulSoup\n",
        "import pandas as pd"
      ],
      "execution_count": 0,
      "outputs": []
    },
    {
      "cell_type": "code",
      "metadata": {
        "id": "EKJB13v-mSqg",
        "colab_type": "code",
        "colab": {}
      },
      "source": [
        "r = requests.get('https://en.wikipedia.org/wiki/COVID-19_testing')\n",
        "soup = BeautifulSoup(r.content, 'html.parser')"
      ],
      "execution_count": 0,
      "outputs": []
    },
    {
      "cell_type": "code",
      "metadata": {
        "id": "2veQwb1omSqj",
        "colab_type": "code",
        "colab": {}
      },
      "source": [
        "table = soup.find(\"table\", class_=\"covid19-testing\")"
      ],
      "execution_count": 0,
      "outputs": []
    },
    {
      "cell_type": "code",
      "metadata": {
        "id": "GzeZnfSNmSqn",
        "colab_type": "code",
        "colab": {}
      },
      "source": [
        "tr = table.tbody.find_all('tr')\n",
        "rows = [each.text.split('\\n\\n') for each in tr]\n"
      ],
      "execution_count": 0,
      "outputs": []
    },
    {
      "cell_type": "code",
      "metadata": {
        "id": "ui3Xhy-VmSqq",
        "colab_type": "code",
        "colab": {}
      },
      "source": [
        "#cleaning \\n and spaces at the beginning and end of the row cells\n",
        "rows = [[word.strip() for word in elem] for elem in rows]"
      ],
      "execution_count": 0,
      "outputs": []
    },
    {
      "cell_type": "code",
      "metadata": {
        "id": "mmninwzimSqt",
        "colab_type": "code",
        "colab": {
          "base_uri": "https://localhost:8080/",
          "height": 1000
        },
        "outputId": "4f988b09-5221-4e2f-bba8-c1858a3f46ae"
      },
      "source": [
        "rows"
      ],
      "execution_count": 6,
      "outputs": [
        {
          "output_type": "execute_result",
          "data": {
            "text/plain": [
              "[['Country or region',\n",
              "  'Tests',\n",
              "  'Positive',\n",
              "  'As of',\n",
              "  'Tests\\u2009/millionpeople',\n",
              "  'Positive\\u2009/thousandtests',\n",
              "  'Ref.'],\n",
              " ['Albania', '2,031', '304', '3 Apr', '709', '150', '[74]'],\n",
              " ['Argentina', '7,385', '1,265', '3 Apr', '164', '171', '[75]'],\n",
              " ['Armenia', '3,994', '736', '3 Apr', '1,353', '184', '[76]'],\n",
              " ['Australia', '277,355', '5,358', '3 Apr', '10,919', '19', '[77]'],\n",
              " ['Austria', '98,343', '11,350', '3 Apr', '11,047', '101', '[78]'],\n",
              " ['Azerbaijan', '30,000', '443', '3 Apr', '3,031', '15', '[79]'],\n",
              " ['Bahrain', '37,996', '668', '3 Apr', '24,210', '18', '[80]'],\n",
              " ['Bangladesh', '2,086', '61', '3 Apr', '13', '29', '[81]'],\n",
              " ['Barbados', '382', '45', '1 Apr', '1,331', '118', '[82]'],\n",
              " ['Belarus', '32,000', '362', '3 Apr', '3,371', '11', '[83]'],\n",
              " ['Belgium', '18,360', '1,486', '18 Mar', '1,594', '81', '[84][85]'],\n",
              " ['Bolivia', '591', '97', '19 Mar', '52', '164', '[86]'],\n",
              " ['Bosnia and Herzegovina',\n",
              "  '4,696',\n",
              "  '611',\n",
              "  '3 Apr',\n",
              "  '1,407',\n",
              "  '130',\n",
              "  '[87][88]'],\n",
              " ['Brazil', '54,824', '7,910', '2 Apr', '261', '144', '[89]'],\n",
              " ['Canada', '302,745', '12,549', '3 Apr', '7,989', '41', '[90]'],\n",
              " ['Canada:  AB', '61,960', '1,075', '3 Apr', '14,040', '17', '[91]'],\n",
              " ['Canada:  BC', '47,352', '1,174', '3 Apr', '9,265', '25', '[92]'],\n",
              " ['Canada:  MB', '11,327', '152', '2 Apr', '8,223', '13.4', '[93]'],\n",
              " ['Canada:  NB', '4,520', '91', '2 Apr', '5,795', '20', '[94]'],\n",
              " ['Canada:  NL', '2,333', '135', '30 Mar', '4,475', '63', '[95]'],\n",
              " ['Canada:  NT', '833', '1', '30 Mar', '18,551', '1.2', '[96]'],\n",
              " ['Canada:  NS', '5,172', '127', '30 Mar', '5,291', '25', '[97]'],\n",
              " ['Canada:  ON', '57,874', '2,392', '1 Apr', '3,934', '41', '[98]'],\n",
              " ['Canada:  PE', '608', '18', '30 Mar', '3,844', '30', '[99]'],\n",
              " ['Canada:  QC', '83,570', '6,101', '3 Apr', '9,788', '73', '[100]'],\n",
              " ['Canada:  SK', '10,528', '193', '1 Apr', '8,909', '18', '[101]'],\n",
              " ['Canada:  YT', '598', '5', '30 Mar', '14,558', '8', '[102]'],\n",
              " ['Chile', '35,142', '2,738', '31 Mar', '1,843', '78', '[103]'],\n",
              " ['China:  Guangdong', '320,000', '', '20 Feb', '2,820', '1.4', '[104]'],\n",
              " ['Colombia', '21,202', '1,267', '3 Apr', '439', '60', '[105]'],\n",
              " ['Costa Rica', '3,845', '347', '31 Mar', '769', '90', '[106]'],\n",
              " ['Croatia', '8,352', '1,011', '2 Apr', '2,049', '121', '[107]'],\n",
              " ['Czechia', '67,281', '3,858', '2 Apr', '6,318', '57', '[108]'],\n",
              " ['Denmark', '40,863', '3,946', '3 Apr', '6,892', '97', '[109]'],\n",
              " ['Ecuador', '10,317', '3,368', '3 Apr', '562', '329', '[110]'],\n",
              " ['Egypt', '25,000', '865', '25 Mar', '250', '35', '[111]'],\n",
              " ['Estonia', '15,725', '858', '2 Apr', '11,838', '55', '[112]'],\n",
              " ['Finland', '26,500', '1,615', '3 Apr', '4,790', '61', '[113][114]'],\n",
              " ['France', '224,254', '54,627', '2 Apr', '3,346', '244', '[115]'],\n",
              " ['Germany', '918,460', '64,906', '29 Mar', '11,046', '71', '[46]'],\n",
              " ['Greece', '15,961', '1,212', '30 Mar', '1,482', '76', '[116]'],\n",
              " ['Grenada', '18', '0', '19 Mar', '162', '0', '[117]'],\n",
              " ['Hong Kong', '90,000', '682', '30 Mar', '12,028', '8', '[118]'],\n",
              " ['Hungary', '17,769', '623', '3 Apr', '1,818', '35', '[119]'],\n",
              " ['Iceland', '22,195', '1,364', '3 Apr', '60,932', '61', '[120]'],\n",
              " ['India', '69,245', '2,653', '3 Apr', '51', '38', '[121]'],\n",
              " ['Indonesia', '7,193', '1,790', '2 Apr', '27', '249', '[122]'],\n",
              " ['Iran', '80,000', '21,638', '22 Mar', '962', '270', '[123]'],\n",
              " ['Ireland', '30,213', '3,235', '30 Mar', '6,345', '107', '[124]'],\n",
              " ['Israel', '90,394', '6,901', '2 Apr', '9,852', '76', '[125]'],\n",
              " ['Italy', '619,849', '119,827', '3 Apr', '10,276', '193', '[126]'],\n",
              " ['Italy:  Emilia-Romagna',\n",
              "  '63,682',\n",
              "  '15,932',\n",
              "  '3 Apr',\n",
              "  '14,280',\n",
              "  '250',\n",
              "  '[126]'],\n",
              " ['Italy:  Liguria', '12,934', '3,965', '3 Apr', '8,341', '307', '[126]'],\n",
              " ['Italy:  Lombardy', '135,051', '47,520', '3 Apr', '13,424', '352', '[126]'],\n",
              " ['Italy:  Marche', '13,678', '4,230', '3 Apr', '8,968', '309', '[126]'],\n",
              " ['Italy:  Piedmont', '34,281', '10,896', '3 Apr', '7,869', '318', '[126]'],\n",
              " ['Italy:  Tuscany', '44,460', '5,499', '3 Apr', '11,921', '124', '[126]'],\n",
              " ['Italy:  Veneto', '126,490', '10,464', '3 Apr', '25,783', '83', '[126]'],\n",
              " ['Jamaica', '442', '44', '1 Apr', '162', '100', '[127]'],\n",
              " ['Japan', '39,446', '2,617', '3 Apr', '313', '66', '[128]'],\n",
              " ['Japan:  Tokyo', '4,104', '684', '2 Apr', '295', '167', '[129]'],\n",
              " ['Kazakhstan', '5,093', '', '13 Mar', '276', '', '[130][131]'],\n",
              " ['Kosovo', '1605', '132', '3 Apr', '887', '82', '[132]'],\n",
              " ['Kyrgyzstan', '8,186', '107', '31 Mar', '1,281', '13', '[133][134]'],\n",
              " ['Latvia', '18,198', '493', '3 Apr', '9,478', '27', '[135]'],\n",
              " ['Lithuania', '18,432', '696', '3 Apr', '6,596', '38', '[136]'],\n",
              " ['Malaysia', '47,723', '3,333', '3 Apr', '1,456', '70', '[137]'],\n",
              " ['Malta', '4,462', '139', '27 Mar', '9,040', '31', '[138]'],\n",
              " ['Mexico', '9,481', '1,049', '28 Mar', '75', '111', '[139]'],\n",
              " ['Montenegro', '1193', '174', '3 Apr', '1,632', '136', '[140]'],\n",
              " ['Nepal', '1185', '6', '2 Apr', '42', '5', '[141]'],\n",
              " ['Netherlands', '46,810', '7,705', '26 Mar', '2,686', '165', '[142]'],\n",
              " ['New Zealand', '33,116', '824', '4 Apr', '6,660', '25', '[143]'],\n",
              " ['North Macedonia', '4,506', '430', '3 Apr', '2,169', '95', '[144]'],\n",
              " ['Norway', '101,986', '5,208', '3 Apr', '19,000', '51', '[145]'],\n",
              " ['Pakistan', '30,308', '2,450', '3 Apr', '143', '166', '[146]'],\n",
              " ['Palestine', '2,519', '', '16 Mar', '499', '', '[147]'],\n",
              " ['Panama', '7,333', '1,317', '1 Apr', '1,756', '180', '[148]'],\n",
              " ['Peru', '12,669', '852', '27 Mar', '386', '67', '[149]'],\n",
              " ['Philippines', '5,265', '3,018', '3 Apr', '52', '573', '[150]'],\n",
              " ['Poland', '66,938', '3,149', '3 Apr', '1,744', '47', '[151]'],\n",
              " ['Portugal', '52,086', '7,443', '31 Mar', '5,068', '143', '[152]'],\n",
              " ['Romania', '31,657', '3,183', '3 Apr', '1,632', '101', '[153]'],\n",
              " ['Russia', '575,000', '4,149', '3 Apr', '3,918', '7.2', '[154][155]'],\n",
              " ['Scotland', '19,535', '3,001', '3 Apr', '3,592', '176', '[156]'],\n",
              " ['Serbia', '5,008', '1,171', '2 Apr', '719', '234', '[157]'],\n",
              " ['Singapore', '39,000', '558', '25 Mar', '6,838', '14', '[158]'],\n",
              " ['Slovakia', '11,742', '450', '3 Apr', '2,154', '38', '[159]'],\n",
              " ['Slovenia', '24,857', '911', '1 Apr', '11,870', '37', '[160]'],\n",
              " ['South Africa', '44,292', '1,380', '1 Apr', '754', '31', '[161]'],\n",
              " ['South Korea', '455,032', '10,156', '4 Apr', '8,800', '22', '[162]'],\n",
              " ['Spain', '355,000', '24,926', '21 Mar', '7,596', '70', '[163][164]'],\n",
              " ['Sweden', '36,900', '4,435', '31 Mar', '4,306', '120', '[165]'],\n",
              " ['Switzerland', '139,330', '18,267', '2 Apr', '16,258', '131', '[166]'],\n",
              " ['Taiwan', '34,557', '348', '3 Apr', '1,453', '10', '[167]'],\n",
              " ['Thailand', '23,669', '1,978', '3 Apr', '341', '84', '[168]'],\n",
              " ['Trinidad and Tobago', '595', '90', '1 Apr', '436', '151', '[169]'],\n",
              " ['Turkey', '141,716', '20,921', '3 Apr', '1,704', '148', '[170]'],\n",
              " ['Ukraine', '4,404', '942', '3 Apr', '105', '214', '[171]'],\n",
              " ['United Arab Emirates',\n",
              "  '220,000',\n",
              "  '1024',\n",
              "  '3 Apr',\n",
              "  '22,918',\n",
              "  '4.7',\n",
              "  '[172][173]'],\n",
              " ['United Kingdom', '173,784', '38,168', '3 Apr', '2,573', '220', '[174]'],\n",
              " ['United States (unofficial)',\n",
              "  '1,469,251',\n",
              "  '271,915',\n",
              "  '3 Apr',\n",
              "  '4,476',\n",
              "  '185',\n",
              "  '[175]'],\n",
              " ['United States:  CA', '94,800*', '10,701', '3 Apr', '2,399', '113', '[176]'],\n",
              " ['United States:  FL', '95,835', '10,268', '3 Apr', '4,462', '107', '[177]'],\n",
              " ['United States:  IL', '48,048', '8,904', '3 Apr', '3,792', '185', '[178]'],\n",
              " ['United States:  LA', '53,645', '10,297', '3 Apr', '11,512', '192', '[179]'],\n",
              " ['United States:  NY',\n",
              "  '260,520',\n",
              "  '102,863',\n",
              "  '3 Apr',\n",
              "  '13,392',\n",
              "  '395',\n",
              "  '[180]'],\n",
              " ['United States:  NJ', '67,503', '29,895', '3 Apr', '7,600', '443', '[181]'],\n",
              " ['United States:  OK', '2,303', '988', '3 Apr', '582', '429', '[182]'],\n",
              " ['United States:  MI', '37,992', '12,744', '3 Apr', '3,791', '335', '[183]'],\n",
              " ['United States:  TX', '55,764', '5,330', '3 Apr', '1,923', '96', '[184]'],\n",
              " ['United States:  WA', '82,599', '6,966', '3 Apr', '10,847', '84', '[185]'],\n",
              " ['Uruguay', '1,538', '189', '24 Mar', '443', '123', '[186]'],\n",
              " ['Venezuela', '1,779', '143', '31 Mar', '62', '80', '[187][188]'],\n",
              " ['Vietnam', '73,164', '233', '3 Apr', '760', '3.2', '[189]']]"
            ]
          },
          "metadata": {
            "tags": []
          },
          "execution_count": 6
        }
      ]
    },
    {
      "cell_type": "code",
      "metadata": {
        "id": "iujmBjV4mSqx",
        "colab_type": "code",
        "colab": {}
      },
      "source": [
        "#headers = rows[0]\n",
        "headers = ['country', 'tests', 'positive', 'date', 'testpermillion', 'positiveperthousand', 'ref']\n",
        "data = rows[1:]"
      ],
      "execution_count": 0,
      "outputs": []
    },
    {
      "cell_type": "code",
      "metadata": {
        "id": "98d6fY5MmSq0",
        "colab_type": "code",
        "colab": {}
      },
      "source": [
        "tests_df = pd.DataFrame(data, columns=headers)"
      ],
      "execution_count": 0,
      "outputs": []
    },
    {
      "cell_type": "code",
      "metadata": {
        "id": "c8qYYJR8mSq3",
        "colab_type": "code",
        "colab": {
          "base_uri": "https://localhost:8080/",
          "height": 204
        },
        "outputId": "7e873eeb-6342-43d0-b10c-3025d2582c45"
      },
      "source": [
        "tests_df.head()"
      ],
      "execution_count": 9,
      "outputs": [
        {
          "output_type": "execute_result",
          "data": {
            "text/html": [
              "<div>\n",
              "<style scoped>\n",
              "    .dataframe tbody tr th:only-of-type {\n",
              "        vertical-align: middle;\n",
              "    }\n",
              "\n",
              "    .dataframe tbody tr th {\n",
              "        vertical-align: top;\n",
              "    }\n",
              "\n",
              "    .dataframe thead th {\n",
              "        text-align: right;\n",
              "    }\n",
              "</style>\n",
              "<table border=\"1\" class=\"dataframe\">\n",
              "  <thead>\n",
              "    <tr style=\"text-align: right;\">\n",
              "      <th></th>\n",
              "      <th>country</th>\n",
              "      <th>tests</th>\n",
              "      <th>positive</th>\n",
              "      <th>date</th>\n",
              "      <th>testpermillion</th>\n",
              "      <th>positiveperthousand</th>\n",
              "      <th>ref</th>\n",
              "    </tr>\n",
              "  </thead>\n",
              "  <tbody>\n",
              "    <tr>\n",
              "      <th>0</th>\n",
              "      <td>Albania</td>\n",
              "      <td>2,031</td>\n",
              "      <td>304</td>\n",
              "      <td>3 Apr</td>\n",
              "      <td>709</td>\n",
              "      <td>150</td>\n",
              "      <td>[74]</td>\n",
              "    </tr>\n",
              "    <tr>\n",
              "      <th>1</th>\n",
              "      <td>Argentina</td>\n",
              "      <td>7,385</td>\n",
              "      <td>1,265</td>\n",
              "      <td>3 Apr</td>\n",
              "      <td>164</td>\n",
              "      <td>171</td>\n",
              "      <td>[75]</td>\n",
              "    </tr>\n",
              "    <tr>\n",
              "      <th>2</th>\n",
              "      <td>Armenia</td>\n",
              "      <td>3,994</td>\n",
              "      <td>736</td>\n",
              "      <td>3 Apr</td>\n",
              "      <td>1,353</td>\n",
              "      <td>184</td>\n",
              "      <td>[76]</td>\n",
              "    </tr>\n",
              "    <tr>\n",
              "      <th>3</th>\n",
              "      <td>Australia</td>\n",
              "      <td>277,355</td>\n",
              "      <td>5,358</td>\n",
              "      <td>3 Apr</td>\n",
              "      <td>10,919</td>\n",
              "      <td>19</td>\n",
              "      <td>[77]</td>\n",
              "    </tr>\n",
              "    <tr>\n",
              "      <th>4</th>\n",
              "      <td>Austria</td>\n",
              "      <td>98,343</td>\n",
              "      <td>11,350</td>\n",
              "      <td>3 Apr</td>\n",
              "      <td>11,047</td>\n",
              "      <td>101</td>\n",
              "      <td>[78]</td>\n",
              "    </tr>\n",
              "  </tbody>\n",
              "</table>\n",
              "</div>"
            ],
            "text/plain": [
              "     country    tests positive   date testpermillion positiveperthousand   ref\n",
              "0    Albania    2,031      304  3 Apr            709                 150  [74]\n",
              "1  Argentina    7,385    1,265  3 Apr            164                 171  [75]\n",
              "2    Armenia    3,994      736  3 Apr          1,353                 184  [76]\n",
              "3  Australia  277,355    5,358  3 Apr         10,919                  19  [77]\n",
              "4    Austria   98,343   11,350  3 Apr         11,047                 101  [78]"
            ]
          },
          "metadata": {
            "tags": []
          },
          "execution_count": 9
        }
      ]
    },
    {
      "cell_type": "markdown",
      "metadata": {
        "id": "fhlzhTx7mSq7",
        "colab_type": "text"
      },
      "source": [
        "## Veamos cuantos Positivos cada Mil tests, por país \n"
      ]
    },
    {
      "cell_type": "code",
      "metadata": {
        "id": "SxVIsAtbmSq7",
        "colab_type": "code",
        "colab": {
          "base_uri": "https://localhost:8080/",
          "height": 1000
        },
        "outputId": "40ea3258-4b19-423c-a754-83ab5473acd0"
      },
      "source": [
        "import plotly.express as px\n",
        "tests_df_sorted = tests_df.sort_values(by=['positiveperthousand'])\n",
        "fig = px.bar(tests_df_sorted, x='positiveperthousand', y=\"country\", height=1800, orientation='h')\n",
        "fig.show()"
      ],
      "execution_count": 10,
      "outputs": [
        {
          "output_type": "display_data",
          "data": {
            "text/html": [
              "<html>\n",
              "<head><meta charset=\"utf-8\" /></head>\n",
              "<body>\n",
              "    <div>\n",
              "            <script src=\"https://cdnjs.cloudflare.com/ajax/libs/mathjax/2.7.5/MathJax.js?config=TeX-AMS-MML_SVG\"></script><script type=\"text/javascript\">if (window.MathJax) {MathJax.Hub.Config({SVG: {font: \"STIX-Web\"}});}</script>\n",
              "                <script type=\"text/javascript\">window.PlotlyConfig = {MathJaxConfig: 'local'};</script>\n",
              "        <script src=\"https://cdn.plot.ly/plotly-latest.min.js\"></script>    \n",
              "            <div id=\"6cfe7f44-07f0-46d1-ac68-3af79f3ee2de\" class=\"plotly-graph-div\" style=\"height:1800px; width:100%;\"></div>\n",
              "            <script type=\"text/javascript\">\n",
              "                \n",
              "                    window.PLOTLYENV=window.PLOTLYENV || {};\n",
              "                    \n",
              "                if (document.getElementById(\"6cfe7f44-07f0-46d1-ac68-3af79f3ee2de\")) {\n",
              "                    Plotly.newPlot(\n",
              "                        '6cfe7f44-07f0-46d1-ac68-3af79f3ee2de',\n",
              "                        [{\"alignmentgroup\": \"True\", \"hoverlabel\": {\"namelength\": 0}, \"hovertemplate\": \"positiveperthousand=%{x}<br>country=%{y}\", \"legendgroup\": \"\", \"marker\": {\"color\": \"#636efa\"}, \"name\": \"\", \"offsetgroup\": \"\", \"orientation\": \"h\", \"showlegend\": false, \"textposition\": \"auto\", \"type\": \"bar\", \"x\": [\"\", \"\", \"0\", \"1.2\", \"1.4\", \"10\", \"100\", \"101\", \"101\", \"107\", \"107\", \"11\", \"111\", \"113\", \"118\", \"120\", \"121\", \"123\", \"124\", \"13\", \"13.4\", \"130\", \"131\", \"136\", \"14\", \"143\", \"144\", \"148\", \"15\", \"150\", \"151\", \"164\", \"165\", \"166\", \"167\", \"17\", \"171\", \"176\", \"18\", \"18\", \"180\", \"184\", \"185\", \"185\", \"19\", \"192\", \"193\", \"20\", \"214\", \"22\", \"220\", \"234\", \"244\", \"249\", \"25\", \"25\", \"25\", \"250\", \"27\", \"270\", \"29\", \"3.2\", \"30\", \"307\", \"309\", \"31\", \"31\", \"318\", \"329\", \"335\", \"35\", \"35\", \"352\", \"37\", \"38\", \"38\", \"38\", \"395\", \"4.7\", \"41\", \"41\", \"429\", \"443\", \"47\", \"5\", \"51\", \"55\", \"57\", \"573\", \"60\", \"61\", \"61\", \"63\", \"66\", \"67\", \"7.2\", \"70\", \"70\", \"71\", \"73\", \"76\", \"76\", \"78\", \"8\", \"8\", \"80\", \"81\", \"82\", \"83\", \"84\", \"84\", \"90\", \"95\", \"96\", \"97\"], \"xaxis\": \"x\", \"y\": [\"Palestine\", \"Kazakhstan\", \"Grenada\", \"Canada:  NT\", \"China:  Guangdong\", \"Taiwan\", \"Jamaica\", \"Austria\", \"Romania\", \"United States:  FL\", \"Ireland\", \"Belarus\", \"Mexico\", \"United States:  CA\", \"Barbados\", \"Sweden\", \"Croatia\", \"Uruguay\", \"Italy:  Tuscany\", \"Kyrgyzstan\", \"Canada:  MB\", \"Bosnia and Herzegovina\", \"Switzerland\", \"Montenegro\", \"Singapore\", \"Portugal\", \"Brazil\", \"Turkey\", \"Azerbaijan\", \"Albania\", \"Trinidad and Tobago\", \"Bolivia\", \"Netherlands\", \"Pakistan\", \"Japan:  Tokyo\", \"Canada:  AB\", \"Argentina\", \"Scotland\", \"Bahrain\", \"Canada:  SK\", \"Panama\", \"Armenia\", \"United States:  IL\", \"United States (unofficial)\", \"Australia\", \"United States:  LA\", \"Italy\", \"Canada:  NB\", \"Ukraine\", \"South Korea\", \"United Kingdom\", \"Serbia\", \"France\", \"Indonesia\", \"Canada:  NS\", \"Canada:  BC\", \"New Zealand\", \"Italy:  Emilia-Romagna\", \"Latvia\", \"Iran\", \"Bangladesh\", \"Vietnam\", \"Canada:  PE\", \"Italy:  Liguria\", \"Italy:  Marche\", \"Malta\", \"South Africa\", \"Italy:  Piedmont\", \"Ecuador\", \"United States:  MI\", \"Egypt\", \"Hungary\", \"Italy:  Lombardy\", \"Slovenia\", \"Lithuania\", \"Slovakia\", \"India\", \"United States:  NY\", \"United Arab Emirates\", \"Canada:  ON\", \"Canada\", \"United States:  OK\", \"United States:  NJ\", \"Poland\", \"Nepal\", \"Norway\", \"Estonia\", \"Czechia\", \"Philippines\", \"Colombia\", \"Finland\", \"Iceland\", \"Canada:  NL\", \"Japan\", \"Peru\", \"Russia\", \"Spain\", \"Malaysia\", \"Germany\", \"Canada:  QC\", \"Israel\", \"Greece\", \"Chile\", \"Canada:  YT\", \"Hong Kong\", \"Venezuela\", \"Belgium\", \"Kosovo\", \"Italy:  Veneto\", \"Thailand\", \"United States:  WA\", \"Costa Rica\", \"North Macedonia\", \"United States:  TX\", \"Denmark\"], \"yaxis\": \"y\"}],\n",
              "                        {\"barmode\": \"relative\", \"height\": 1800, \"legend\": {\"tracegroupgap\": 0}, \"margin\": {\"t\": 60}, \"template\": {\"data\": {\"bar\": [{\"error_x\": {\"color\": \"#2a3f5f\"}, \"error_y\": {\"color\": \"#2a3f5f\"}, \"marker\": {\"line\": {\"color\": \"#E5ECF6\", \"width\": 0.5}}, \"type\": \"bar\"}], \"barpolar\": [{\"marker\": {\"line\": {\"color\": \"#E5ECF6\", \"width\": 0.5}}, \"type\": \"barpolar\"}], \"carpet\": [{\"aaxis\": {\"endlinecolor\": \"#2a3f5f\", \"gridcolor\": \"white\", \"linecolor\": \"white\", \"minorgridcolor\": \"white\", \"startlinecolor\": \"#2a3f5f\"}, \"baxis\": {\"endlinecolor\": \"#2a3f5f\", \"gridcolor\": \"white\", \"linecolor\": \"white\", \"minorgridcolor\": \"white\", \"startlinecolor\": \"#2a3f5f\"}, \"type\": \"carpet\"}], \"choropleth\": [{\"colorbar\": {\"outlinewidth\": 0, \"ticks\": \"\"}, \"type\": \"choropleth\"}], \"contour\": [{\"colorbar\": {\"outlinewidth\": 0, \"ticks\": \"\"}, \"colorscale\": [[0.0, \"#0d0887\"], [0.1111111111111111, \"#46039f\"], [0.2222222222222222, \"#7201a8\"], [0.3333333333333333, \"#9c179e\"], [0.4444444444444444, \"#bd3786\"], [0.5555555555555556, \"#d8576b\"], [0.6666666666666666, \"#ed7953\"], [0.7777777777777778, \"#fb9f3a\"], [0.8888888888888888, \"#fdca26\"], [1.0, \"#f0f921\"]], \"type\": \"contour\"}], \"contourcarpet\": [{\"colorbar\": {\"outlinewidth\": 0, \"ticks\": \"\"}, \"type\": \"contourcarpet\"}], \"heatmap\": [{\"colorbar\": {\"outlinewidth\": 0, \"ticks\": \"\"}, \"colorscale\": [[0.0, \"#0d0887\"], [0.1111111111111111, \"#46039f\"], [0.2222222222222222, \"#7201a8\"], [0.3333333333333333, \"#9c179e\"], [0.4444444444444444, \"#bd3786\"], [0.5555555555555556, \"#d8576b\"], [0.6666666666666666, \"#ed7953\"], [0.7777777777777778, \"#fb9f3a\"], [0.8888888888888888, \"#fdca26\"], [1.0, \"#f0f921\"]], \"type\": \"heatmap\"}], \"heatmapgl\": [{\"colorbar\": {\"outlinewidth\": 0, \"ticks\": \"\"}, \"colorscale\": [[0.0, \"#0d0887\"], [0.1111111111111111, \"#46039f\"], [0.2222222222222222, \"#7201a8\"], [0.3333333333333333, \"#9c179e\"], [0.4444444444444444, \"#bd3786\"], [0.5555555555555556, \"#d8576b\"], [0.6666666666666666, \"#ed7953\"], [0.7777777777777778, \"#fb9f3a\"], [0.8888888888888888, \"#fdca26\"], [1.0, \"#f0f921\"]], \"type\": \"heatmapgl\"}], \"histogram\": [{\"marker\": {\"colorbar\": {\"outlinewidth\": 0, \"ticks\": \"\"}}, \"type\": \"histogram\"}], \"histogram2d\": [{\"colorbar\": {\"outlinewidth\": 0, \"ticks\": \"\"}, \"colorscale\": [[0.0, \"#0d0887\"], [0.1111111111111111, \"#46039f\"], [0.2222222222222222, \"#7201a8\"], [0.3333333333333333, \"#9c179e\"], [0.4444444444444444, \"#bd3786\"], [0.5555555555555556, \"#d8576b\"], [0.6666666666666666, \"#ed7953\"], [0.7777777777777778, \"#fb9f3a\"], [0.8888888888888888, \"#fdca26\"], [1.0, \"#f0f921\"]], \"type\": \"histogram2d\"}], \"histogram2dcontour\": [{\"colorbar\": {\"outlinewidth\": 0, \"ticks\": \"\"}, \"colorscale\": [[0.0, \"#0d0887\"], [0.1111111111111111, \"#46039f\"], [0.2222222222222222, \"#7201a8\"], [0.3333333333333333, \"#9c179e\"], [0.4444444444444444, \"#bd3786\"], [0.5555555555555556, \"#d8576b\"], [0.6666666666666666, \"#ed7953\"], [0.7777777777777778, \"#fb9f3a\"], [0.8888888888888888, \"#fdca26\"], [1.0, \"#f0f921\"]], \"type\": \"histogram2dcontour\"}], \"mesh3d\": [{\"colorbar\": {\"outlinewidth\": 0, \"ticks\": \"\"}, \"type\": \"mesh3d\"}], \"parcoords\": [{\"line\": {\"colorbar\": {\"outlinewidth\": 0, \"ticks\": \"\"}}, \"type\": \"parcoords\"}], \"pie\": [{\"automargin\": true, \"type\": \"pie\"}], \"scatter\": [{\"marker\": {\"colorbar\": {\"outlinewidth\": 0, \"ticks\": \"\"}}, \"type\": \"scatter\"}], \"scatter3d\": [{\"line\": {\"colorbar\": {\"outlinewidth\": 0, \"ticks\": \"\"}}, \"marker\": {\"colorbar\": {\"outlinewidth\": 0, \"ticks\": \"\"}}, \"type\": \"scatter3d\"}], \"scattercarpet\": [{\"marker\": {\"colorbar\": {\"outlinewidth\": 0, \"ticks\": \"\"}}, \"type\": \"scattercarpet\"}], \"scattergeo\": [{\"marker\": {\"colorbar\": {\"outlinewidth\": 0, \"ticks\": \"\"}}, \"type\": \"scattergeo\"}], \"scattergl\": [{\"marker\": {\"colorbar\": {\"outlinewidth\": 0, \"ticks\": \"\"}}, \"type\": \"scattergl\"}], \"scattermapbox\": [{\"marker\": {\"colorbar\": {\"outlinewidth\": 0, \"ticks\": \"\"}}, \"type\": \"scattermapbox\"}], \"scatterpolar\": [{\"marker\": {\"colorbar\": {\"outlinewidth\": 0, \"ticks\": \"\"}}, \"type\": \"scatterpolar\"}], \"scatterpolargl\": [{\"marker\": {\"colorbar\": {\"outlinewidth\": 0, \"ticks\": \"\"}}, \"type\": \"scatterpolargl\"}], \"scatterternary\": [{\"marker\": {\"colorbar\": {\"outlinewidth\": 0, \"ticks\": \"\"}}, \"type\": \"scatterternary\"}], \"surface\": [{\"colorbar\": {\"outlinewidth\": 0, \"ticks\": \"\"}, \"colorscale\": [[0.0, \"#0d0887\"], [0.1111111111111111, \"#46039f\"], [0.2222222222222222, \"#7201a8\"], [0.3333333333333333, \"#9c179e\"], [0.4444444444444444, \"#bd3786\"], [0.5555555555555556, \"#d8576b\"], [0.6666666666666666, \"#ed7953\"], [0.7777777777777778, \"#fb9f3a\"], [0.8888888888888888, \"#fdca26\"], [1.0, \"#f0f921\"]], \"type\": \"surface\"}], \"table\": [{\"cells\": {\"fill\": {\"color\": \"#EBF0F8\"}, \"line\": {\"color\": \"white\"}}, \"header\": {\"fill\": {\"color\": \"#C8D4E3\"}, \"line\": {\"color\": \"white\"}}, \"type\": \"table\"}]}, \"layout\": {\"annotationdefaults\": {\"arrowcolor\": \"#2a3f5f\", \"arrowhead\": 0, \"arrowwidth\": 1}, \"coloraxis\": {\"colorbar\": {\"outlinewidth\": 0, \"ticks\": \"\"}}, \"colorscale\": {\"diverging\": [[0, \"#8e0152\"], [0.1, \"#c51b7d\"], [0.2, \"#de77ae\"], [0.3, \"#f1b6da\"], [0.4, \"#fde0ef\"], [0.5, \"#f7f7f7\"], [0.6, \"#e6f5d0\"], [0.7, \"#b8e186\"], [0.8, \"#7fbc41\"], [0.9, \"#4d9221\"], [1, \"#276419\"]], \"sequential\": [[0.0, \"#0d0887\"], [0.1111111111111111, \"#46039f\"], [0.2222222222222222, \"#7201a8\"], [0.3333333333333333, \"#9c179e\"], [0.4444444444444444, \"#bd3786\"], [0.5555555555555556, \"#d8576b\"], [0.6666666666666666, \"#ed7953\"], [0.7777777777777778, \"#fb9f3a\"], [0.8888888888888888, \"#fdca26\"], [1.0, \"#f0f921\"]], \"sequentialminus\": [[0.0, \"#0d0887\"], [0.1111111111111111, \"#46039f\"], [0.2222222222222222, \"#7201a8\"], [0.3333333333333333, \"#9c179e\"], [0.4444444444444444, \"#bd3786\"], [0.5555555555555556, \"#d8576b\"], [0.6666666666666666, \"#ed7953\"], [0.7777777777777778, \"#fb9f3a\"], [0.8888888888888888, \"#fdca26\"], [1.0, \"#f0f921\"]]}, \"colorway\": [\"#636efa\", \"#EF553B\", \"#00cc96\", \"#ab63fa\", \"#FFA15A\", \"#19d3f3\", \"#FF6692\", \"#B6E880\", \"#FF97FF\", \"#FECB52\"], \"font\": {\"color\": \"#2a3f5f\"}, \"geo\": {\"bgcolor\": \"white\", \"lakecolor\": \"white\", \"landcolor\": \"#E5ECF6\", \"showlakes\": true, \"showland\": true, \"subunitcolor\": \"white\"}, \"hoverlabel\": {\"align\": \"left\"}, \"hovermode\": \"closest\", \"mapbox\": {\"style\": \"light\"}, \"paper_bgcolor\": \"white\", \"plot_bgcolor\": \"#E5ECF6\", \"polar\": {\"angularaxis\": {\"gridcolor\": \"white\", \"linecolor\": \"white\", \"ticks\": \"\"}, \"bgcolor\": \"#E5ECF6\", \"radialaxis\": {\"gridcolor\": \"white\", \"linecolor\": \"white\", \"ticks\": \"\"}}, \"scene\": {\"xaxis\": {\"backgroundcolor\": \"#E5ECF6\", \"gridcolor\": \"white\", \"gridwidth\": 2, \"linecolor\": \"white\", \"showbackground\": true, \"ticks\": \"\", \"zerolinecolor\": \"white\"}, \"yaxis\": {\"backgroundcolor\": \"#E5ECF6\", \"gridcolor\": \"white\", \"gridwidth\": 2, \"linecolor\": \"white\", \"showbackground\": true, \"ticks\": \"\", \"zerolinecolor\": \"white\"}, \"zaxis\": {\"backgroundcolor\": \"#E5ECF6\", \"gridcolor\": \"white\", \"gridwidth\": 2, \"linecolor\": \"white\", \"showbackground\": true, \"ticks\": \"\", \"zerolinecolor\": \"white\"}}, \"shapedefaults\": {\"line\": {\"color\": \"#2a3f5f\"}}, \"ternary\": {\"aaxis\": {\"gridcolor\": \"white\", \"linecolor\": \"white\", \"ticks\": \"\"}, \"baxis\": {\"gridcolor\": \"white\", \"linecolor\": \"white\", \"ticks\": \"\"}, \"bgcolor\": \"#E5ECF6\", \"caxis\": {\"gridcolor\": \"white\", \"linecolor\": \"white\", \"ticks\": \"\"}}, \"title\": {\"x\": 0.05}, \"xaxis\": {\"automargin\": true, \"gridcolor\": \"white\", \"linecolor\": \"white\", \"ticks\": \"\", \"title\": {\"standoff\": 15}, \"zerolinecolor\": \"white\", \"zerolinewidth\": 2}, \"yaxis\": {\"automargin\": true, \"gridcolor\": \"white\", \"linecolor\": \"white\", \"ticks\": \"\", \"title\": {\"standoff\": 15}, \"zerolinecolor\": \"white\", \"zerolinewidth\": 2}}}, \"xaxis\": {\"anchor\": \"y\", \"domain\": [0.0, 1.0], \"title\": {\"text\": \"positiveperthousand\"}}, \"yaxis\": {\"anchor\": \"x\", \"domain\": [0.0, 1.0], \"title\": {\"text\": \"country\"}}},\n",
              "                        {\"responsive\": true}\n",
              "                    ).then(function(){\n",
              "                            \n",
              "var gd = document.getElementById('6cfe7f44-07f0-46d1-ac68-3af79f3ee2de');\n",
              "var x = new MutationObserver(function (mutations, observer) {{\n",
              "        var display = window.getComputedStyle(gd).display;\n",
              "        if (!display || display === 'none') {{\n",
              "            console.log([gd, 'removed!']);\n",
              "            Plotly.purge(gd);\n",
              "            observer.disconnect();\n",
              "        }}\n",
              "}});\n",
              "\n",
              "// Listen for the removal of the full notebook cells\n",
              "var notebookContainer = gd.closest('#notebook-container');\n",
              "if (notebookContainer) {{\n",
              "    x.observe(notebookContainer, {childList: true});\n",
              "}}\n",
              "\n",
              "// Listen for the clearing of the current output cell\n",
              "var outputEl = gd.closest('.output');\n",
              "if (outputEl) {{\n",
              "    x.observe(outputEl, {childList: true});\n",
              "}}\n",
              "\n",
              "                        })\n",
              "                };\n",
              "                \n",
              "            </script>\n",
              "        </div>\n",
              "</body>\n",
              "</html>"
            ]
          },
          "metadata": {
            "tags": []
          }
        }
      ]
    },
    {
      "cell_type": "code",
      "metadata": {
        "id": "Qa1BrVD5mSq-",
        "colab_type": "code",
        "colab": {}
      },
      "source": [
        ""
      ],
      "execution_count": 0,
      "outputs": []
    },
    {
      "cell_type": "code",
      "metadata": {
        "id": "j2FlcrR0mSrC",
        "colab_type": "code",
        "colab": {}
      },
      "source": [
        ""
      ],
      "execution_count": 0,
      "outputs": []
    }
  ]
}